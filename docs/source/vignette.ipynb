{
 "cells": [
  {
   "cell_type": "markdown",
   "id": "13bbd773",
   "metadata": {},
   "source": [
    "# Vignette"
   ]
  },
  {
   "cell_type": "code",
   "execution_count": null,
   "id": "1e7e8a19",
   "metadata": {},
   "outputs": [],
   "source": []
  }
 ],
 "metadata": {
  "language_info": {
   "name": "python"
  }
 },
 "nbformat": 4,
 "nbformat_minor": 5
}
