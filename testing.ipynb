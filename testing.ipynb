{
 "cells": [
  {
   "cell_type": "code",
   "execution_count": 4,
   "metadata": {},
   "outputs": [],
   "source": [
    "from matplotlib.patches import PathPatch, Rectangle\n",
    "from matplotlib.path import Path\n",
    "import matplotlib.pyplot as plt\n",
    "from matplotlib.ticker import FixedLocator\n",
    "import pandas as pd"
   ]
  },
  {
   "cell_type": "code",
   "execution_count": 5,
   "metadata": {},
   "outputs": [
    {
     "data": {
      "text/plain": [
       "<matplotlib.patches.PathPatch at 0x7f0bf6bec130>"
      ]
     },
     "execution_count": 5,
     "metadata": {},
     "output_type": "execute_result"
    },
    {
     "data": {
      "image/png": "[encoded data removed]",
      "text/plain": [
       "<Figure size 500x500 with 1 Axes>"
      ]
     },
     "metadata": {},
     "output_type": "display_data"
    }
   ],
   "source": [
    "fig, ax = plt.subplots(figsize=(5, 5))\n",
    "ax.xaxis.set_major_locator(FixedLocator([0, 1, 2]))\n",
    "ax.set_xlim([0 - 0.05, 2 + 0.05])\n",
    "ax.set_xticklabels([\"A\", \"B\", \"C\"])\n",
    "\n",
    "ax.spines[\"top\"].set_visible(False)\n",
    "ax.spines[\"left\"].set_visible(False)\n",
    "ax.spines[\"right\"].set_visible(False)\n",
    "ax.spines[\"bottom\"].set_visible(False)\n",
    "\n",
    "ax.set_yticks([])\n",
    "\n",
    "sizes = [[0.5, 0.3, 0.15, 0.05], [0.3, 0.15, 0.5, 0.05], [0.5, 0.15, 0.3, 0.05]]\n",
    "colors = [\"red\", \"blue\", \"green\", \"orange\"]\n",
    "for index, size in enumerate(sizes):\n",
    "    for a_index, a_size in enumerate(size):\n",
    "        rect = Rectangle(\n",
    "            xy=(index - 0.05, sum(size[:a_index])), width=0.1, height=a_size, color=colors[a_index], zorder=1\n",
    "        )\n",
    "        ax.add_patch(rect)\n",
    "\n",
    "\n",
    "poly = PathPatch(\n",
    "    Path(\n",
    "        vertices=[\n",
    "            (0.05, 0.8),\n",
    "            (0.95, 0.45),\n",
    "            (0.95, 0.95),\n",
    "            (0.05, 0.95),\n",
    "        ],\n",
    "        codes=[Path.MOVETO, Path.LINETO, Path.LINETO, Path.LINETO],\n",
    "        closed=True,\n",
    "    ),\n",
    "    color=\"green\",\n",
    "    zorder=0,\n",
    "    alpha=0.5,\n",
    "    lw=0,\n",
    ")\n",
    "ax.add_patch(poly)"
   ]
  }
 ],
 "metadata": {
  "kernelspec": {
   "display_name": "venv",
   "language": "python",
   "name": "python3"
  },
  "language_info": {
   "codemirror_mode": {
    "name": "ipython",
    "version": 3
   },
   "file_extension": ".py",
   "mimetype": "text/x-python",
   "name": "python",
   "nbconvert_exporter": "python",
   "pygments_lexer": "ipython3",
   "version": "3.10.12"
  }
 },
 "nbformat": 4,
 "nbformat_minor": 2
}
